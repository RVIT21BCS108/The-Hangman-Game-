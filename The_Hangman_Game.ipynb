{
  "nbformat": 4,
  "nbformat_minor": 0,
  "metadata": {
    "colab": {
      "provenance": [],
      "authorship_tag": "ABX9TyMUc27czpVvT5g9HwmcYTMD",
      "include_colab_link": true
    },
    "kernelspec": {
      "name": "python3",
      "display_name": "Python 3"
    },
    "language_info": {
      "name": "python"
    }
  },
  "cells": [
    {
      "cell_type": "markdown",
      "metadata": {
        "id": "view-in-github",
        "colab_type": "text"
      },
      "source": [
        "<a href=\"https://colab.research.google.com/github/RVIT21BCS108/The-Hangman-Game-/blob/main/The_Hangman_Game.ipynb\" target=\"_parent\"><img src=\"https://colab.research.google.com/assets/colab-badge.svg\" alt=\"Open In Colab\"/></a>"
      ]
    },
    {
      "cell_type": "code",
      "source": [
        "import random\n",
        "\n",
        "#TODO-1: - Update the word list to use the 'word_list' from hangman_words.py\n",
        "#Delete this line: word_list = [\"ardvark\", \"baboon\", \"camel\"]\n",
        "word_list= [\"aardvark\", \"baboon\", \"camel\"]\n",
        "\n",
        "chosen_word = random.choice(word_list)\n",
        "word_length = len(chosen_word)\n",
        "\n",
        "end_of_game = False\n",
        "lives = 6\n",
        "\n",
        "\n",
        "#Testing code\n",
        "# print(f'Pssst, the solution is {chosen_word}.')\n",
        "\n",
        "#Create blanks\n",
        "display = []\n",
        "for _ in range(word_length):\n",
        "    display += \"_\"\n",
        "\n",
        "while not end_of_game:\n",
        "    guess = input(\"Guess a letter: \").lower()\n",
        "\n",
        "    #TODO-4: - If the user has entered a letter they've already guessed, print the letter and let them know.\n",
        "    if guess in display:\n",
        "        print(f\"You've already guessed {guess}\")\n",
        "\n",
        "    #Check guessed letter\n",
        "    for position in range(word_length):\n",
        "        letter = chosen_word[position]\n",
        "        #print(f\"Current position: {position}\\n Current letter: {letter}\\n Guessed letter: {guess}\")\n",
        "        if letter == guess:\n",
        "            display[position] = letter\n",
        "\n",
        "    #Check if user is wrong.\n",
        "    if guess not in chosen_word:\n",
        "        #TODO-5: - If the letter is not in the chosen_word, print out the letter and let them know it's not in the word.\n",
        "        print(f\"You guessed {guess}, that's not in the word. You lose a life.\")\n",
        "\n",
        "        lives -= 1\n",
        "        if lives == 0:\n",
        "            end_of_game = True\n",
        "            print(\"You lose.\")\n",
        "\n",
        "    #Join all the elements in the list and turn it into a String.\n",
        "    print(f\"{' '.join(display)}\")\n",
        "\n",
        "    #Check if user has got all letters.\n",
        "    if \"_\" not in display:\n",
        "        end_of_game = True\n",
        "        print(\"You win.\")\n",
        "\n"
      ],
      "metadata": {
        "colab": {
          "base_uri": "https://localhost:8080/"
        },
        "id": "FFvJt67vVLp0",
        "outputId": "9fd2070a-32f7-4618-8452-864bf894c7a8"
      },
      "execution_count": null,
      "outputs": [
        {
          "output_type": "stream",
          "name": "stdout",
          "text": [
            "Guess a letter: a\n",
            "_ a _ _ _ _\n",
            "Guess a letter: h\n",
            "You guessed h, that's not in the word. You lose a life.\n",
            "_ a _ _ _ _\n",
            "Guess a letter: f\n",
            "You guessed f, that's not in the word. You lose a life.\n",
            "_ a _ _ _ _\n",
            "Guess a letter: d\n",
            "You guessed d, that's not in the word. You lose a life.\n",
            "_ a _ _ _ _\n",
            "Guess a letter: b\n",
            "b a b _ _ _\n",
            "Guess a letter: o\n",
            "b a b o o _\n",
            "Guess a letter: n\n",
            "b a b o o n\n",
            "You win.\n"
          ]
        }
      ]
    }
  ]
}